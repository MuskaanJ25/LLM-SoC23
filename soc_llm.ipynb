{
  "cells": [
    {
      "cell_type": "code",
      "execution_count": 15,
      "metadata": {},
      "outputs": [],
      "source": [
        "def sum_sq_pos (arr):\n",
        "    ans=0\n",
        "    if not arr:\n",
        "        return 0\n",
        "    num = arr.pop()\n",
        "    if num < 0:\n",
        "        ans=ans + sum_sq_pos(arr)\n",
        "    else:\n",
        "        ans=ans + num*num + sum_sq_pos(arr)\n",
        "    return ans"
      ]
    },
    {
      "cell_type": "code",
      "execution_count": null,
      "metadata": {},
      "outputs": [],
      "source": [
        "with open('input.txt', 'r') as f_input, open('output.txt', 'w') as f_output:\n",
        "    T = int(f_input.readline().strip())\n",
        "    for _ in range(T):\n",
        "        N = int(f_input.readline().strip())\n",
        "        arr = list(map(int, f_input.readline().split()))\n",
        "        sum = sum_sq_pos(arr)\n",
        "        f_output.write(str(sum) + \"\\n\")"
      ]
    }
  ],
  "metadata": {
    "kernelspec": {
      "display_name": "Python 3",
      "language": "python",
      "name": "python3"
    },
    "language_info": {
      "codemirror_mode": {
        "name": "ipython",
        "version": 3
      },
      "file_extension": ".py",
      "mimetype": "text/x-python",
      "name": "python",
      "nbconvert_exporter": "python",
      "pygments_lexer": "ipython3",
      "version": "3.11.2"
    },
    "vscode": {
      "interpreter": {
        "hash": "e7370f93d1d0cde622a1f8e1c04877d8463912d04d973331ad4851f04de6915a"
      }
    }
  },
  "nbformat": 4,
  "nbformat_minor": 4
}
